{
 "cells": [
  {
   "cell_type": "code",
   "execution_count": null,
   "id": "11416031-8241-49e8-9ff9-a3a8aff846ad",
   "metadata": {},
   "outputs": [],
   "source": [
    "import numpy as np\n",
    "import matplotlib.pyplot as plt"
   ]
  },
  {
   "cell_type": "code",
   "execution_count": 1,
   "id": "03a055a9-e249-40af-9c72-6d2e993ad83a",
   "metadata": {},
   "outputs": [
    {
     "name": "stdout",
     "output_type": "stream",
     "text": [
      "One of my favorite professors is Dr. Umulis\n",
      "One of my favorite professors is Dr. Pienaar\n"
     ]
    }
   ],
   "source": [
    "for x in ['Dr. Umulis', 'Dr. Pienaar']:\n",
    "      print('One of my favorite professors is '+str(x))"
   ]
  },
  {
   "cell_type": "code",
   "execution_count": 5,
   "id": "01cc721f-cf6a-4c79-bb6c-b3a399d75489",
   "metadata": {},
   "outputs": [
    {
     "name": "stdout",
     "output_type": "stream",
     "text": [
      "The number of days in January is 31\n",
      "The number of days in February is 28\n",
      "The number of days in March is 31\n",
      "The number of days in April is 30\n",
      "The number of days in May is 31\n",
      "The number of days in June is 30\n",
      "The number of days in July is 31\n",
      "The number of days in August is 31\n",
      "The number of days in September is 30\n",
      "The number of days in October is 31\n",
      "The number of days in November is 30\n",
      "The number of days in December is 31\n"
     ]
    }
   ],
   "source": [
    "months = ['January', 'February', 'March', 'April', 'May','June', 'July', 'August', 'September', 'October', 'November', 'December']\n",
    "days = [31, 28, 31, 30, 31, 30, 31, 31, 30, 31, 30, 31]\n",
    "\n",
    "for i in range(12):\n",
    "    print('The number of days in '+str(months[i])+' is ' +str(days[i]))"
   ]
  },
  {
   "cell_type": "markdown",
   "id": "1d480ae2-778b-4e2f-b803-ff634ad82f24",
   "metadata": {},
   "source": [
    "**Exercise 1:** Using the above examples build a loop that prints your TA names. Write your own code in the cell below:"
   ]
  },
  {
   "cell_type": "code",
   "execution_count": null,
   "id": "45e11b90-7633-4f64-a79c-fcf8e2546463",
   "metadata": {},
   "outputs": [],
   "source": []
  },
  {
   "cell_type": "markdown",
   "id": "2952ed4a-fb8a-435a-b388-4bae84cd5684",
   "metadata": {},
   "source": [
    "**Exercise 2:** Below is an example of a nested loop, meaning a loop that is wrapped inside another loop. In the example, the ``range`` argument is not filled in for the inner loop. What value do you need to replace the question mark with to produce a function that prints a list of consecutive numbers. Try different values in place of the question mark."
   ]
  },
  {
   "cell_type": "code",
   "execution_count": null,
   "id": "42b177c8-4b8a-4a8f-917a-4da0a7492ca3",
   "metadata": {},
   "outputs": [],
   "source": [
    "for w in range(3):\n",
    "    x = w * 4\n",
    "    for y in range(?):\n",
    "        print(x+y)"
   ]
  }
 ],
 "metadata": {
  "kernelspec": {
   "display_name": "Python 3 (ipykernel)",
   "language": "python",
   "name": "python3"
  },
  "language_info": {
   "codemirror_mode": {
    "name": "ipython",
    "version": 3
   },
   "file_extension": ".py",
   "mimetype": "text/x-python",
   "name": "python",
   "nbconvert_exporter": "python",
   "pygments_lexer": "ipython3",
   "version": "3.10.2"
  },
  "widgets": {
   "application/vnd.jupyter.widget-state+json": {
    "state": {},
    "version_major": 2,
    "version_minor": 0
   }
  }
 },
 "nbformat": 4,
 "nbformat_minor": 5
}
